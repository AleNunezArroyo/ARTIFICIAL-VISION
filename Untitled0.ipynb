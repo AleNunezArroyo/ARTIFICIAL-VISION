{
  "nbformat": 4,
  "nbformat_minor": 0,
  "metadata": {
    "colab": {
      "name": "Untitled0.ipynb",
      "provenance": [],
      "authorship_tag": "ABX9TyOHKkN6Lpm4ML99PJisqiN1",
      "include_colab_link": true
    },
    "kernelspec": {
      "name": "python3",
      "display_name": "Python 3"
    },
    "language_info": {
      "name": "python"
    }
  },
  "cells": [
    {
      "cell_type": "markdown",
      "metadata": {
        "id": "view-in-github",
        "colab_type": "text"
      },
      "source": [
        "<a href=\"https://colab.research.google.com/github/AlejandroNunezArroyo/ARTIFICIAL-VISION/blob/main/Untitled0.ipynb\" target=\"_parent\"><img src=\"https://colab.research.google.com/assets/colab-badge.svg\" alt=\"Open In Colab\"/></a>"
      ]
    },
    {
      "cell_type": "code",
      "execution_count": 4,
      "metadata": {
        "colab": {
          "base_uri": "https://localhost:8080/",
          "height": 871
        },
        "id": "9Q9rv80OIkae",
        "outputId": "8f7fe287-401f-4113-a98b-14eb0dc25c13"
      },
      "outputs": [
        {
          "output_type": "execute_result",
          "data": {
            "text/html": [
              "\n",
              "        <iframe\n",
              "            width=\"1600\"\n",
              "            height=\"850\"\n",
              "            src=\"https://public.tableau.com/views/EdXCoursesDataset2021-Visualization/Dashboard1?:showVizHome=no&:embed=true\"\n",
              "            frameborder=\"0\"\n",
              "            allowfullscreen\n",
              "        ></iframe>\n",
              "        "
            ],
            "text/plain": [
              "<IPython.lib.display.IFrame at 0x7f2d252a82d0>"
            ]
          },
          "metadata": {},
          "execution_count": 4
        }
      ],
      "source": [
        "from IPython.display import IFrame\n",
        "IFrame('https://public.tableau.com/views/EdXCoursesDataset2021-Visualization/Dashboard1?:showVizHome=no&:embed=true', width=1600, height=850)"
      ]
    },
    {
      "cell_type": "code",
      "source": [
        "from IPython.display import IFrame\n",
        "IFrame('https://public.tableau.com/views/EdXCoursesDataset2021-Visualization/Distribucindedificultaddelastresinstitucionesconmscursos?:showVizHome=no&:embed=true', width=700, height=300)"
      ],
      "metadata": {
        "colab": {
          "base_uri": "https://localhost:8080/",
          "height": 321
        },
        "id": "5wko_SAkIlX4",
        "outputId": "e2be447c-b278-4145-d1e2-4ac98ab2bec6"
      },
      "execution_count": 8,
      "outputs": [
        {
          "output_type": "execute_result",
          "data": {
            "text/html": [
              "\n",
              "        <iframe\n",
              "            width=\"700\"\n",
              "            height=\"300\"\n",
              "            src=\"https://public.tableau.com/views/EdXCoursesDataset2021-Visualization/Distribucindedificultaddelastresinstitucionesconmscursos?:showVizHome=no&:embed=true\"\n",
              "            frameborder=\"0\"\n",
              "            allowfullscreen\n",
              "        ></iframe>\n",
              "        "
            ],
            "text/plain": [
              "<IPython.lib.display.IFrame at 0x7f2d252a8390>"
            ]
          },
          "metadata": {},
          "execution_count": 8
        }
      ]
    },
    {
      "cell_type": "code",
      "source": [
        "https://public.tableau.com/views/EdXCoursesDataset2021-Visualization/Dashboard1?:language=en-US&:display_count=n&:origin=viz_share_link"
      ],
      "metadata": {
        "id": "vQEjjjh1JpuF"
      },
      "execution_count": null,
      "outputs": []
    },
    {
      "cell_type": "code",
      "source": [
        "https://public.tableau.com/views/USDroughtIntensityAnalysis2000-2018/USDroughtIntensity2000-2018?:embed=y&:display_count=yes"
      ],
      "metadata": {
        "id": "QNRlFWVJM-gD"
      },
      "execution_count": null,
      "outputs": []
    },
    {
      "cell_type": "markdown",
      "source": [
        "from IPython.display import IFrame\n",
        "IFrame('https://public.tableau.com/views/USDroughtIntensityAnalysis2000-2018/USDroughtIntensity2000-2018?:embed=y&:display_count=yes', width=1000, height=1000)"
      ],
      "metadata": {
        "id": "I04axq-rLQpF"
      }
    },
    {
      "cell_type": "code",
      "source": [
        "https://public.tableau.com/views/EdXCoursesDataset2021-Visualization/Dashboard1?:showVizHome=no&:embed=true"
      ],
      "metadata": {
        "colab": {
          "base_uri": "https://localhost:8080/",
          "height": 1000
        },
        "id": "FgTQfkaCNGnx",
        "outputId": "f2994e3f-eb4c-49f4-bc24-39c982f9d7e3"
      },
      "execution_count": 9,
      "outputs": [
        {
          "output_type": "execute_result",
          "data": {
            "text/html": [
              "\n",
              "        <iframe\n",
              "            width=\"1000\"\n",
              "            height=\"1000\"\n",
              "            src=\"https://public.tableau.com/views/EdXCoursesDataset2021-Visualization&#47;Dashboard1?:embed=y&:display_count=yes\"\n",
              "            frameborder=\"0\"\n",
              "            allowfullscreen\n",
              "        ></iframe>\n",
              "        "
            ],
            "text/plain": [
              "<IPython.lib.display.IFrame at 0x7f294ec1ad10>"
            ]
          },
          "metadata": {},
          "execution_count": 9
        }
      ]
    },
    {
      "cell_type": "code",
      "source": [
        "<div class='tableauPlaceholder' id='viz1642946260068' style='position: relative'><object class='tableauViz'  style='display:none;'><param name='host_url' value='https%3A%2F%2Fpublic.tableau.com%2F' /> <param name='embed_code_version' value='3' /> <param name='site_root' value='' /><param name='name' value='EdXCoursesDataset2021-Visualization&#47;Dashboard1' /><param name='tabs' value='yes' /><param name='toolbar' value='yes' /><param name='animate_transition' value='yes' /><param name='display_static_image' value='yes' /><param name='display_spinner' value='yes' /><param name='display_overlay' value='yes' /><param name='display_count' value='yes' /><param name='language' value='en-US' /></object></div>                <script type='text/javascript'>                    var divElement = document.getElementById('viz1642946260068');                    var vizElement = divElement.getElementsByTagName('object')[0];                    if ( divElement.offsetWidth > 800 ) { vizElement.style.minWidth='1016px';vizElement.style.maxWidth='100%';vizElement.style.minHeight='1014px';vizElement.style.maxHeight=(divElement.offsetWidth*0.75)+'px';} else if ( divElement.offsetWidth > 500 ) { vizElement.style.minWidth='1016px';vizElement.style.maxWidth='100%';vizElement.style.minHeight='1014px';vizElement.style.maxHeight=(divElement.offsetWidth*0.75)+'px';} else { vizElement.style.minWidth='1016px';vizElement.style.maxWidth='100%';vizElement.style.minHeight='2100px';vizElement.style.maxHeight=(divElement.offsetWidth*1.77)+'px';}                     var scriptElement = document.createElement('script');                    scriptElement.src = 'https://public.tableau.com/javascripts/api/viz_v1.js';                    vizElement.parentNode.insertBefore(scriptElement, vizElement);                </script>"
      ],
      "metadata": {
        "id": "Z0CE4HH1NKZC"
      },
      "execution_count": null,
      "outputs": []
    },
    {
      "cell_type": "markdown",
      "source": [
        "# Prueba Django\n",
        "\n",
        "Utilizando Django REST Framework, desarrollá los endpoints para el sistema de reservas de habitación de un hotel.\n",
        "CONDICIONES:\n",
        "\n",
        "- Las reservas pueden tener 3 estados: Pendiente, Pagado y Eliminado.\n",
        "- Los datos a almacenar para la reserva son: los detalles del cuarto reservado, los días de estadía, los datos de facturación e identificación del cliente, el monto pagado y el método de pago.\n",
        "- Proponé los endpoints a crearse para tratar de cubrir el flujo normal de operación de reserva y explicar por qué.\n",
        "Luego que tengas ya todo el código\n",
        "-Crear un repositorio para la entrega del código y en un readme del repositorio la justificación de los endpoints creados\n",
        "\n",
        "# Solución\n",
        "\n",
        "Para el reto se empleo el desarrollo de un dashboard de administración utilizando Django, se crearon 2 tipos de usuarios, el primero es el administrador del hotel el cual se encarga de registrar y editar todos los datos de cada cliente y el segundo es un enlace público el cual ayuda a concectar la API a otros servicios de consulta. \n",
        "\n",
        "## Datos recopilados\n",
        "\n",
        "El primer paso que se empleo fué el de listar los datos a almacenar, en este caso se recopilaron los siguientes datos:\n",
        "\n",
        "- Nombre\n",
        "- Teléfono\n",
        "- Email\n",
        "- Inicio de reserva (Día y hora)\n",
        "- Fin de reserva (Día y hora)\n",
        "- Estado de la reserva (Pendiente, Pagado y Eliminado)\n",
        "- Tipo de pago (Tarjeta, Transferencia, Efectivo)\n",
        "- NIT\n",
        "- Habitación\n",
        "- Monto de pago\n",
        "- El ID de cada cliente se genera de manera automática dentro del sistema\n",
        "\n",
        "## Desarrollo\n",
        "\n",
        "Se inicio creando un ambiente virtual de programación.\n",
        "\n",
        "```bash\n",
        "  python3 -m venv TuGerente_env\n",
        "  source TuGerente_env/bin/activate\n",
        "```\n",
        "\n",
        "Dentro del ambiente virtual se instala la libreria de Django\n",
        "\n",
        "```bash\n",
        "  pip3 install Django\n",
        "```\n",
        "\n",
        "Se procede a crear el proyecto e iniciarlo, todos los archivos se encuentran en la carpeta ```TuGerente_env```. Después de hacer las migraciones y configuraciones y código del proyecto, se debe crear un superuser.\n",
        "\n",
        "\n",
        "```bash\n",
        "  python3 manage.py createsuperuser\n",
        "```\n",
        "\n",
        "Nos pedirá ingresar un nombre, correo y contraseña.\n",
        "\n",
        "| Nombre | Correo     | Contraseña                |\n",
        "| :-------- | :------- | :------------------------- |\n",
        "| `TuGerente` | `mail@tugerente.com` | **123456** |\n",
        "\n",
        "Para ejecutar el servidor ejecutamos el siguiente comando.\n",
        "\n",
        "```bash\n",
        "  python3 manage.py runserver\n",
        "```\n",
        "Una vez ejecutado se debe ingresar al enlace que aparece en terminal\n",
        "\n",
        "![](images/terminal.png)\n",
        "\n",
        "Debemos ingresar al enlace: http://127.0.0.1:8000/, la primera vez nos aparece el siguiente error, ya que debemos especificar una dirección.\n",
        "\n",
        "![](images/enlace.png)\n",
        "\n",
        "Para ello entramos al dashboard de administración, mediante este enlace: http://127.0.0.1:8000/admin/login/?next=/admin/, ingresamos los datos del superusuario. \n",
        "\n",
        "![](images/adm.png)\n",
        "\n",
        "Para añadir a un nuevo usuario precionamos `Persons` y `ADD PERSON`."
      ],
      "metadata": {
        "id": "CWiOG6k6YmY_"
      }
    }
  ]
}